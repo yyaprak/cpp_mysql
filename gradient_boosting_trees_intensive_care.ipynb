{
  "nbformat": 4,
  "nbformat_minor": 0,
  "metadata": {
    "colab": {
      "name": "gradient_boosting_trees_intensive_care",
      "provenance": [],
      "collapsed_sections": [],
      "authorship_tag": "ABX9TyOSmeQLK/UG2WlVLJxC/ok1",
      "include_colab_link": true
    },
    "kernelspec": {
      "name": "python3",
      "display_name": "Python 3"
    },
    "language_info": {
      "name": "python"
    }
  },
  "cells": [
    {
      "cell_type": "markdown",
      "metadata": {
        "id": "view-in-github",
        "colab_type": "text"
      },
      "source": [
        "<a href=\"https://colab.research.google.com/github/yyaprak/cpp_mysql/blob/main/gradient_boosting_trees_intensive_care.ipynb\" target=\"_parent\"><img src=\"https://colab.research.google.com/assets/colab-badge.svg\" alt=\"Open In Colab\"/></a>"
      ]
    },
    {
      "cell_type": "code",
      "metadata": {
        "colab": {
          "base_uri": "https://localhost:8080/",
          "height": 0
        },
        "id": "Tm3UmiZvSyjM",
        "outputId": "d35b80b3-3c07-4f2b-fa54-0460d8664c5b"
      },
      "source": [
        "import pandas as pd\n",
        "import numpy as np\n",
        "import matplotlib.pyplot as plt\n",
        "import seaborn as sns\n",
        "import warnings\n",
        "import xgboost as xgb\n",
        "\n",
        "warnings.filterwarnings(\"ignore\")\n",
        "\n",
        "#kaynak dosyayı yukleme\n",
        "df = pd.read_csv('https://raw.githubusercontent.com/yyaprak/ml/main/covid19_dataset.csv')\n",
        "\n",
        "\n",
        "#Hedef değişkenimiz INTUBATION oldugundan diğer verilerden ayırıyoruz\n",
        "X = df.drop(['INTUBATION','INTENSIVE CARE','ID'],axis=1)\n",
        "\n",
        "\n",
        "# y fonksiyon verilerini değişkene atama\n",
        "y=df['INTENSIVE CARE']\n",
        "\n",
        "\n",
        "print('INTENSIVE CARE')\n",
        "print(y.value_counts())\n",
        "\n",
        "y = np.where(df['INTENSIVE CARE'] == 'YES',1,0)\n",
        "print(y)\n",
        "# X tablosunda Nan olan verileri ortalamayla doldurma\n",
        "X=X.fillna(X.mean())\n",
        "\n"
      ],
      "execution_count": 22,
      "outputs": [
        {
          "output_type": "stream",
          "text": [
            "INTENSIVE CARE\n",
            "NO     1270\n",
            "YES     169\n",
            "Name: INTENSIVE CARE, dtype: int64\n",
            "[0 0 0 ... 0 0 0]\n"
          ],
          "name": "stdout"
        }
      ]
    },
    {
      "cell_type": "markdown",
      "metadata": {
        "id": "Fy3wAD7dj2EU"
      },
      "source": [
        "Modelimizi kurmaya hazırız şimdi standart modelleme süreçlerini uygulayacağız.\n",
        "\n",
        "1-Veriyi eğitim ve test alt-veri gruplarına ayırma.\n",
        "\n",
        "2-Karar ağacı modeli oluşturma.\n",
        "\n",
        "3-Modeli eğitim verisine ‘fit’ etme."
      ]
    },
    {
      "cell_type": "code",
      "metadata": {
        "colab": {
          "base_uri": "https://localhost:8080/",
          "height": 385
        },
        "id": "lAKLv9PQWnWO",
        "outputId": "f0401fd0-8524-4b8e-95a8-30496ca6bb76"
      },
      "source": [
        "from sklearn.model_selection import train_test_split\n",
        "#from sklearn.ensemble import RandomForestClassifier\n",
        "from sklearn.metrics import accuracy_score \n",
        "from sklearn.metrics import confusion_matrix as cm\n",
        "    \n",
        "X_train, X_test, y_train, y_test = train_test_split(X,y, test_size=0.3, random_state=42)\n",
        "\n",
        "\n",
        "import xgboost as xgb\n",
        "from sklearn.metrics import mean_squared_error\n",
        "from xgboost import plot_tree\n",
        "\n",
        "data_dmatrix = xgb.DMatrix(data=X,label=y)\n",
        "\n",
        "model = xgb.XGBClassifier(max_depth=3, learning_rate=0.1, n_estimators=100,\n",
        "                          silent=True, objective='binary:logistic', booster='gbtree')\n",
        "model.fit(X_train,y_train)\n",
        "#plot_tree(model,num_trees=4)\n",
        "y_pred = model.predict(X_test)\n",
        "y_true=y_test\n",
        "score=model.score(X_train,y_train)\n",
        "print(\"tahmin\",score)\n",
        "rmse = np.sqrt(mean_squared_error(y_test, y_pred))\n",
        "print(\"RMSE: %f\" % (rmse))\n",
        "\n",
        "#%% confusion matrix\n",
        "from sklearn.metrics import confusion_matrix\n",
        "cm = confusion_matrix(y_true, y_pred)\n",
        "\n",
        "\n",
        "#%% cm visualizaiton\n",
        "\n",
        "import seaborn as sns\n",
        "import matplotlib.pyplot as plt\n",
        "\n",
        "f,ax = plt.subplots(figsize=(5,5))\n",
        "sns.heatmap(cm,annot = True,linewidths=0.5,linecolor=\"red\", fmt=\".0f\",ax=ax)\n",
        "plt.xlabel('y_pred')\n",
        "plt.ylabel('y_true')\n",
        "plt.title('Accuracy Score: {0}'.format(score), size = 15)\n",
        "plt.show()"
      ],
      "execution_count": 23,
      "outputs": [
        {
          "output_type": "stream",
          "text": [
            "tahmin 0.9751737835153923\n",
            "RMSE: 0.333333\n"
          ],
          "name": "stdout"
        },
        {
          "output_type": "display_data",
          "data": {
            "image/png": "[encoded data removed]",
            "text/plain": [
              "<Figure size 360x360 with 2 Axes>"
            ]
          },
          "metadata": {
            "tags": [],
            "needs_background": "light"
          }
        }
      ]
    },
    {
      "cell_type": "markdown",
      "metadata": {
        "id": "049MYNRRkHti"
      },
      "source": [
        "4.Görmediğimiz test verisine modele verip tahminde bulunma.\n",
        "\n",
        "5a. Modelin başarı metrikleri: Confusion matrix"
      ]
    },
    {
      "cell_type": "markdown",
      "metadata": {
        "id": "1ZU9BujAtn9D"
      },
      "source": [
        "Modelin Sensitivit ve specifity başarı metrikleri formul kullanarak"
      ]
    },
    {
      "cell_type": "code",
      "metadata": {
        "colab": {
          "base_uri": "https://localhost:8080/",
          "height": 0
        },
        "id": "WbkgJaJytysw",
        "outputId": "11492cca-60fa-4faa-8ae1-e2dcc0b4e330"
      },
      "source": [
        "TN=cm[0,0]\n",
        "TP=cm[1,1]\n",
        "FP=cm[0,1]\n",
        "FN=cm[1,0]\n",
        "sensitivity=TP/(TP+FN)\n",
        "specificity=TN/(TN+FN)\n",
        "print(\"sensitivity\",sensitivity)\n",
        "print(\"specificity\",specificity)"
      ],
      "execution_count": 24,
      "outputs": [
        {
          "output_type": "stream",
          "text": [
            "sensitivity 0.3684210526315789\n",
            "specificity 0.9097744360902256\n"
          ],
          "name": "stdout"
        }
      ]
    },
    {
      "cell_type": "markdown",
      "metadata": {
        "id": "5LLpDWunQz8-"
      },
      "source": [
        "Modelin başarı metrikleri: Precision,recall,f1-score classification_report kullanarak"
      ]
    },
    {
      "cell_type": "code",
      "metadata": {
        "id": "72EBc1Vdfcr-",
        "colab": {
          "base_uri": "https://localhost:8080/",
          "height": 0
        },
        "outputId": "1b04474a-4f8b-4a29-a3f7-d85b4fe888f1"
      },
      "source": [
        "from sklearn.metrics import classification_report\n",
        "print(classification_report(y_test, y_pred, target_names=['1', '0']))"
      ],
      "execution_count": 25,
      "outputs": [
        {
          "output_type": "stream",
          "text": [
            "              precision    recall  f1-score   support\n",
            "\n",
            "           1       0.91      0.97      0.94       375\n",
            "           0       0.64      0.37      0.47        57\n",
            "\n",
            "    accuracy                           0.89       432\n",
            "   macro avg       0.77      0.67      0.70       432\n",
            "weighted avg       0.87      0.89      0.88       432\n",
            "\n"
          ],
          "name": "stdout"
        }
      ]
    },
    {
      "cell_type": "markdown",
      "metadata": {
        "id": "BZbFRh99voNE"
      },
      "source": [
        "Modelin özniteliklerinin önem sıralamasını analiz etme.\n"
      ]
    },
    {
      "cell_type": "code",
      "metadata": {
        "colab": {
          "base_uri": "https://localhost:8080/",
          "height": 798
        },
        "id": "13hh3e7qgCPm",
        "outputId": "d1668668-5869-4a00-fa28-2d3bce77667a"
      },
      "source": [
        "model = xgb.XGBClassifier(max_depth=3, learning_rate=0.1, n_estimators=100,\n",
        "                          silent=True, objective='binary:logistic', booster='gbtree')\n",
        "model.fit(X_train,y_train)\n",
        "predictions = model.predict(X_test)\n",
        "\n",
        "print(classification_report(y_test, predictions, target_names=['1', '0']))\n",
        "plt.figure(figsize=(16, 9))\n",
        "\n",
        "ranking = model.feature_importances_\n",
        "features = np.argsort(ranking)[::-1][:10]\n",
        "columns = X.columns\n",
        "\n",
        "plt.title(\"Feature importances based on Gradient Bossting Trees Classifier\", y = 1.03, size = 18)\n",
        "plt.bar(range(len(features)), ranking[features], color=\"aqua\", align=\"center\")\n",
        "plt.xticks(range(len(features)), columns[features], rotation=80)\n",
        "plt.show()"
      ],
      "execution_count": 26,
      "outputs": [
        {
          "output_type": "stream",
          "text": [
            "              precision    recall  f1-score   support\n",
            "\n",
            "           1       0.91      0.97      0.94       375\n",
            "           0       0.64      0.37      0.47        57\n",
            "\n",
            "    accuracy                           0.89       432\n",
            "   macro avg       0.77      0.67      0.70       432\n",
            "weighted avg       0.87      0.89      0.88       432\n",
            "\n"
          ],
          "name": "stdout"
        },
        {
          "output_type": "display_data",
          "data": {
            "image/png": "[encoded data removed]",
            "text/plain": [
              "<Figure size 1152x648 with 1 Axes>"
            ]
          },
          "metadata": {
            "tags": [],
            "needs_background": "light"
          }
        }
      ]
    }
  ]
}